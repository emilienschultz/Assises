{
 "cells": [
  {
   "cell_type": "code",
   "execution_count": 2,
   "metadata": {
    "collapsed": true
   },
   "outputs": [],
   "source": [
    "import sqlite3 as sq\n",
    "import bs4 as bs\n",
    "import re\n",
    "import locale\n",
    "import glob\n",
    "import pandas as pd\n",
    "from datetime import datetime\n",
    "import matplotlib.pyplot as plt\n",
    "import os as os\n",
    "import bs4 as bs\n",
    "import networkx as nx\n",
    "%matplotlib inline\n",
    "plt.style.use('ggplot')\n",
    "pd.options.display.max_colwidth = 10000"
   ]
  },
  {
   "cell_type": "markdown",
   "metadata": {},
   "source": [
    "## Mise en forme du fichier"
   ]
  },
  {
   "cell_type": "code",
   "execution_count": 3,
   "metadata": {
    "collapsed": false
   },
   "outputs": [
    {
     "name": "stdout",
     "output_type": "stream",
     "text": [
      "1280\n"
     ]
    }
   ],
   "source": [
    "def clean(x):\n",
    "    x = x.replace(\"e╠ü\",\"é\")\n",
    "    x = x.replace(\"e╠Ç\",\"è\")\n",
    "    x = x.replace(\"a╠Ç\",\"à\")\n",
    "    x = x.replace(\"E╠ü\",\"é\")\n",
    "    x = x.replace(\"ÔÇÖ\",\"'\")\n",
    "    x = x.replace(\"o╠é\",\"ô\")\n",
    "    x = x.replace(\"c╠º\",\"c\")\n",
    "    x = x.replace(\"e╠ê\",\"ë\")\n",
    "    x = x.replace(\"e╠é\",\"ê\")\n",
    "    x = x.replace(\"I╠é\",\"I\")\n",
    "    x = x.replace(\"i╠ê\",\"ï\")\n",
    "    x = x.replace(\"i╠é\",\"î\")\n",
    "    return x.replace(\".htm\",\"\")\n",
    "        \n",
    "\n",
    "data = {}\n",
    "l = os.listdir(\"../../../Thèse/Manuscrit/data/Assises.html\")\n",
    "for i in l:\n",
    "    with open(\"../../../Thèse/Manuscrit/data/Assises.html/\"+i) as f:\n",
    "        u = bs.BeautifulSoup(f,\"lxml\")\n",
    "        data[clean(i)] = u\n",
    "print(len(data))\n",
    "        \n",
    "#Filtre sur la taille\n",
    "#for i in [i for i in data if len(data[i].text)>200000]:\n",
    "#    del data[i]"
   ]
  },
  {
   "cell_type": "code",
   "execution_count": 26,
   "metadata": {
    "collapsed": true
   },
   "outputs": [],
   "source": [
    "def is_anr(x):\n",
    "    x = x.text\n",
    "    try:\n",
    "        if pd.isnull(x):\n",
    "            return False\n",
    "        if \"anr\" in x.lower() or \"a.n.r\" in x.lower() or \"agence nationale de la recherche\" in x.lower():\n",
    "            return True\n",
    "    except:\n",
    "        print(n)\n",
    "    return False"
   ]
  },
  {
   "cell_type": "code",
   "execution_count": 38,
   "metadata": {
    "collapsed": false
   },
   "outputs": [],
   "source": [
    "contrib_anr = [i for i in data if \"agence nationale de la recherche\" in data[i].text.lower() or \"anr\" in data[i].text.lower()]"
   ]
  },
  {
   "cell_type": "code",
   "execution_count": 70,
   "metadata": {
    "collapsed": true
   },
   "outputs": [],
   "source": [
    "contrib_projets = [i for i in data if \"sur projet\" in data[i].text.lower() or \"par projet\" in data[i].text.lower()]"
   ]
  },
  {
   "cell_type": "code",
   "execution_count": 71,
   "metadata": {
    "collapsed": false
   },
   "outputs": [
    {
     "data": {
      "text/plain": [
       "245"
      ]
     },
     "execution_count": 71,
     "metadata": {},
     "output_type": "execute_result"
    }
   ],
   "source": [
    "contrib_projets"
   ]
  },
  {
   "cell_type": "code",
   "execution_count": 6,
   "metadata": {
    "collapsed": true
   },
   "outputs": [],
   "source": [
    "sb = [(data[i].text.lower().count(\"anr\")/len(data[i].text.split(\" \")),data[i].text.lower().count(\"anr\"),i) for i in data if \"anr\" in data[i].text.lower()]"
   ]
  },
  {
   "cell_type": "code",
   "execution_count": 41,
   "metadata": {
    "collapsed": false
   },
   "outputs": [],
   "source": [
    "s = pd.DataFrame(contrib_anr)\n",
    "s[\"type\"] = None\n",
    "s[\"del\"] = None\n",
    "#s.to_excel(\"out_reco_names.xls\")"
   ]
  },
  {
   "cell_type": "code",
   "execution_count": 52,
   "metadata": {
    "collapsed": false
   },
   "outputs": [],
   "source": [
    "s = pd.read_excel(\"out_reco_names.xls\")\n",
    "def reco_type(x):\n",
    "    if x in [\"privé\",\"insti\",\"assises\",\"socciv\",\"administration\",\"politique\"]:\n",
    "        return \"others\"\n",
    "    if x in [\"socsavantes\"]:\n",
    "        return \"recherche\"\n",
    "    return x\n",
    "s[\"type_reco\"] = s[\"type\"].apply(reco_type)"
   ]
  },
  {
   "cell_type": "code",
   "execution_count": 53,
   "metadata": {
    "collapsed": false
   },
   "outputs": [
    {
     "data": {
      "text/plain": [
       "recherche    171\n",
       "indiv         84\n",
       "syndic        59\n",
       "others        41\n",
       "univ          39\n",
       "Name: type_reco, dtype: int64"
      ]
     },
     "execution_count": 53,
     "metadata": {},
     "output_type": "execute_result"
    }
   ],
   "source": [
    "s[\"type_reco\"].value_counts()"
   ]
  },
  {
   "cell_type": "code",
   "execution_count": 72,
   "metadata": {
    "collapsed": true
   },
   "outputs": [],
   "source": [
    "def extract_anr_sentences(x):\n",
    "    t = x.lower().split(\".\")\n",
    "    return [i for i in t if \"anr\" in i or \"agence nationale de la recherche\" in i]\n",
    "def extract_projets_sentences(x):\n",
    "    t = x.lower().split(\".\")\n",
    "    return [i for i in t if \"par projet\" in i or \"sur projet\" in i]"
   ]
  },
  {
   "cell_type": "code",
   "execution_count": 73,
   "metadata": {
    "collapsed": false
   },
   "outputs": [],
   "source": [
    "d = {i:extract_anr_sentences(data[i].text) for i in contrib_anr}\n",
    "d2 = {i:extract_projets_sentences(data[i].text) for i in contrib_projets}"
   ]
  },
  {
   "cell_type": "code",
   "execution_count": 76,
   "metadata": {
    "collapsed": false
   },
   "outputs": [
    {
     "data": {
      "text/plain": [
       "466"
      ]
     },
     "execution_count": 76,
     "metadata": {},
     "output_type": "execute_result"
    }
   ],
   "source": [
    "sum([len(d2[i]) for i in d2])"
   ]
  },
  {
   "cell_type": "code",
   "execution_count": 77,
   "metadata": {
    "collapsed": false
   },
   "outputs": [],
   "source": [
    "f = []\n",
    "for i in d:\n",
    "    for j in d[i]:\n",
    "        f.append([i,j])\n",
    "for i in d2:\n",
    "    for j in d2[i]:\n",
    "        f.append([i,j])"
   ]
  },
  {
   "cell_type": "code",
   "execution_count": 88,
   "metadata": {
    "collapsed": false
   },
   "outputs": [],
   "source": [
    "v = pd.DataFrame(f,columns=[\"fichier\",\"phrase\"]).set_index(\"fichier\")\n",
    "v[\"jugement\"] = None\n",
    "v[\"objet\"] = None\n",
    "v.sort_index().to_excel(\"phrases_anr.xls\")"
   ]
  },
  {
   "cell_type": "code",
   "execution_count": 90,
   "metadata": {
    "collapsed": false
   },
   "outputs": [
    {
     "data": {
      "text/plain": [
       "187.5"
      ]
     },
     "execution_count": 90,
     "metadata": {},
     "output_type": "execute_result"
    }
   ],
   "source": [
    "1500/40*10/2"
   ]
  },
  {
   "cell_type": "markdown",
   "metadata": {},
   "source": [
    "## Stats après codage manuel"
   ]
  },
  {
   "cell_type": "code",
   "execution_count": 136,
   "metadata": {
    "collapsed": true
   },
   "outputs": [],
   "source": [
    "v = pd.read_excel(\"./phrases_anr.xls\")\n",
    "\n",
    "s = pd.read_excel(\"out_reco_names.xls\")\n",
    "def reco_type(x):\n",
    "    if x in [\"privé\",\"insti\",\"assises\",\"socciv\",\"administration\",\"politique\"]:\n",
    "        return \"others\"\n",
    "    if x in [\"socsavantes\"]:\n",
    "        return \"recherche\"\n",
    "    return x\n",
    "s[\"type_reco\"] = s[\"type\"].apply(reco_type)\n",
    "s = s.set_index(0)\n",
    "data = v.join(s, on=\"fichier\")"
   ]
  },
  {
   "cell_type": "code",
   "execution_count": 100,
   "metadata": {
    "collapsed": false
   },
   "outputs": [
    {
     "data": {
      "text/plain": [
       "critique    903\n",
       "neutre      275\n",
       "positif     139\n",
       "Name: jugement, dtype: int64"
      ]
     },
     "execution_count": 100,
     "metadata": {},
     "output_type": "execute_result"
    }
   ],
   "source": [
    "data[\"jugement\"].value_counts()"
   ]
  },
  {
   "cell_type": "code",
   "execution_count": 109,
   "metadata": {
    "collapsed": false
   },
   "outputs": [
    {
     "data": {
      "text/plain": [
       "recherche    687\n",
       "indiv        224\n",
       "syndic       152\n",
       "univ         111\n",
       "others        99\n",
       "Name: type_reco, dtype: int64"
      ]
     },
     "execution_count": 109,
     "metadata": {},
     "output_type": "execute_result"
    }
   ],
   "source": [
    "data[\"type_reco\"].value_counts()"
   ]
  },
  {
   "cell_type": "code",
   "execution_count": 102,
   "metadata": {
    "collapsed": false
   },
   "outputs": [
    {
     "data": {
      "text/plain": [
       "structuration    429\n",
       "répartition      287\n",
       "procédures       244\n",
       "politique        214\n",
       "précarité         90\n",
       "autre             34\n",
       "Name: objet, dtype: int64"
      ]
     },
     "execution_count": 102,
     "metadata": {},
     "output_type": "execute_result"
    }
   ],
   "source": [
    "data[\"objet\"].value_counts()"
   ]
  },
  {
   "cell_type": "markdown",
   "metadata": {},
   "source": [
    "Tableau avec lecture par ligne"
   ]
  },
  {
   "cell_type": "code",
   "execution_count": 107,
   "metadata": {
    "collapsed": false
   },
   "outputs": [
    {
     "data": {
      "text/html": [
       "<div>\n",
       "<table border=\"1\" class=\"dataframe\">\n",
       "  <thead>\n",
       "    <tr style=\"text-align: right;\">\n",
       "      <th>jugement</th>\n",
       "      <th>critique</th>\n",
       "      <th>neutre</th>\n",
       "      <th>positif</th>\n",
       "    </tr>\n",
       "    <tr>\n",
       "      <th>objet</th>\n",
       "      <th></th>\n",
       "      <th></th>\n",
       "      <th></th>\n",
       "    </tr>\n",
       "  </thead>\n",
       "  <tbody>\n",
       "    <tr>\n",
       "      <th>autre</th>\n",
       "      <td>82.352941</td>\n",
       "      <td>14.705882</td>\n",
       "      <td>2.941176</td>\n",
       "    </tr>\n",
       "    <tr>\n",
       "      <th>politique</th>\n",
       "      <td>48.598131</td>\n",
       "      <td>33.177570</td>\n",
       "      <td>18.224299</td>\n",
       "    </tr>\n",
       "    <tr>\n",
       "      <th>procédures</th>\n",
       "      <td>80.327869</td>\n",
       "      <td>14.754098</td>\n",
       "      <td>4.918033</td>\n",
       "    </tr>\n",
       "    <tr>\n",
       "      <th>précarité</th>\n",
       "      <td>92.222222</td>\n",
       "      <td>5.555556</td>\n",
       "      <td>2.222222</td>\n",
       "    </tr>\n",
       "    <tr>\n",
       "      <th>répartition</th>\n",
       "      <td>89.895470</td>\n",
       "      <td>6.271777</td>\n",
       "      <td>3.832753</td>\n",
       "    </tr>\n",
       "    <tr>\n",
       "      <th>structuration</th>\n",
       "      <td>53.846154</td>\n",
       "      <td>29.137529</td>\n",
       "      <td>17.016317</td>\n",
       "    </tr>\n",
       "  </tbody>\n",
       "</table>\n",
       "</div>"
      ],
      "text/plain": [
       "jugement        critique     neutre    positif\n",
       "objet                                         \n",
       "autre          82.352941  14.705882   2.941176\n",
       "politique      48.598131  33.177570  18.224299\n",
       "procédures     80.327869  14.754098   4.918033\n",
       "précarité      92.222222   5.555556   2.222222\n",
       "répartition    89.895470   6.271777   3.832753\n",
       "structuration  53.846154  29.137529  17.016317"
      ]
     },
     "execution_count": 107,
     "metadata": {},
     "output_type": "execute_result"
    }
   ],
   "source": [
    "pd.crosstab(data[\"objet\"],data[\"jugement\"]).apply(lambda x: 100*x/sum(x),axis=1)"
   ]
  },
  {
   "cell_type": "code",
   "execution_count": 110,
   "metadata": {
    "collapsed": false
   },
   "outputs": [
    {
     "data": {
      "text/html": [
       "<div>\n",
       "<table border=\"1\" class=\"dataframe\">\n",
       "  <thead>\n",
       "    <tr style=\"text-align: right;\">\n",
       "      <th>jugement</th>\n",
       "      <th>critique</th>\n",
       "      <th>neutre</th>\n",
       "      <th>positif</th>\n",
       "    </tr>\n",
       "    <tr>\n",
       "      <th>type_reco</th>\n",
       "      <th></th>\n",
       "      <th></th>\n",
       "      <th></th>\n",
       "    </tr>\n",
       "  </thead>\n",
       "  <tbody>\n",
       "    <tr>\n",
       "      <th>indiv</th>\n",
       "      <td>59.192825</td>\n",
       "      <td>26.457399</td>\n",
       "      <td>14.349776</td>\n",
       "    </tr>\n",
       "    <tr>\n",
       "      <th>others</th>\n",
       "      <td>33.673469</td>\n",
       "      <td>41.836735</td>\n",
       "      <td>24.489796</td>\n",
       "    </tr>\n",
       "    <tr>\n",
       "      <th>recherche</th>\n",
       "      <td>71.240876</td>\n",
       "      <td>20.000000</td>\n",
       "      <td>8.759124</td>\n",
       "    </tr>\n",
       "    <tr>\n",
       "      <th>syndic</th>\n",
       "      <td>86.842105</td>\n",
       "      <td>10.526316</td>\n",
       "      <td>2.631579</td>\n",
       "    </tr>\n",
       "    <tr>\n",
       "      <th>univ</th>\n",
       "      <td>77.064220</td>\n",
       "      <td>11.926606</td>\n",
       "      <td>11.009174</td>\n",
       "    </tr>\n",
       "  </tbody>\n",
       "</table>\n",
       "</div>"
      ],
      "text/plain": [
       "jugement    critique     neutre    positif\n",
       "type_reco                                 \n",
       "indiv      59.192825  26.457399  14.349776\n",
       "others     33.673469  41.836735  24.489796\n",
       "recherche  71.240876  20.000000   8.759124\n",
       "syndic     86.842105  10.526316   2.631579\n",
       "univ       77.064220  11.926606  11.009174"
      ]
     },
     "execution_count": 110,
     "metadata": {},
     "output_type": "execute_result"
    }
   ],
   "source": [
    "pd.crosstab(data[\"type_reco\"],data[\"jugement\"]).apply(lambda x: 100*x/sum(x),axis=1)"
   ]
  },
  {
   "cell_type": "code",
   "execution_count": 112,
   "metadata": {
    "collapsed": false
   },
   "outputs": [
    {
     "data": {
      "text/html": [
       "<div>\n",
       "<table border=\"1\" class=\"dataframe\">\n",
       "  <thead>\n",
       "    <tr style=\"text-align: right;\">\n",
       "      <th>objet</th>\n",
       "      <th>autre</th>\n",
       "      <th>politique</th>\n",
       "      <th>procédures</th>\n",
       "      <th>précarité</th>\n",
       "      <th>répartition</th>\n",
       "      <th>structuration</th>\n",
       "    </tr>\n",
       "    <tr>\n",
       "      <th>type_reco</th>\n",
       "      <th></th>\n",
       "      <th></th>\n",
       "      <th></th>\n",
       "      <th></th>\n",
       "      <th></th>\n",
       "      <th></th>\n",
       "    </tr>\n",
       "  </thead>\n",
       "  <tbody>\n",
       "    <tr>\n",
       "      <th>indiv</th>\n",
       "      <td>3.225806</td>\n",
       "      <td>17.050691</td>\n",
       "      <td>22.119816</td>\n",
       "      <td>4.147465</td>\n",
       "      <td>16.589862</td>\n",
       "      <td>36.866359</td>\n",
       "    </tr>\n",
       "    <tr>\n",
       "      <th>others</th>\n",
       "      <td>1.041667</td>\n",
       "      <td>28.125000</td>\n",
       "      <td>14.583333</td>\n",
       "      <td>2.083333</td>\n",
       "      <td>13.541667</td>\n",
       "      <td>40.625000</td>\n",
       "    </tr>\n",
       "    <tr>\n",
       "      <th>recherche</th>\n",
       "      <td>2.658789</td>\n",
       "      <td>18.906942</td>\n",
       "      <td>20.236337</td>\n",
       "      <td>7.237814</td>\n",
       "      <td>20.384047</td>\n",
       "      <td>30.576071</td>\n",
       "    </tr>\n",
       "    <tr>\n",
       "      <th>syndic</th>\n",
       "      <td>1.324503</td>\n",
       "      <td>2.649007</td>\n",
       "      <td>10.596026</td>\n",
       "      <td>13.245033</td>\n",
       "      <td>29.139073</td>\n",
       "      <td>43.046358</td>\n",
       "    </tr>\n",
       "    <tr>\n",
       "      <th>univ</th>\n",
       "      <td>4.629630</td>\n",
       "      <td>16.666667</td>\n",
       "      <td>22.222222</td>\n",
       "      <td>5.555556</td>\n",
       "      <td>35.185185</td>\n",
       "      <td>15.740741</td>\n",
       "    </tr>\n",
       "  </tbody>\n",
       "</table>\n",
       "</div>"
      ],
      "text/plain": [
       "objet         autre  politique  procédures  précarité  répartition  \\\n",
       "type_reco                                                            \n",
       "indiv      3.225806  17.050691   22.119816   4.147465    16.589862   \n",
       "others     1.041667  28.125000   14.583333   2.083333    13.541667   \n",
       "recherche  2.658789  18.906942   20.236337   7.237814    20.384047   \n",
       "syndic     1.324503   2.649007   10.596026  13.245033    29.139073   \n",
       "univ       4.629630  16.666667   22.222222   5.555556    35.185185   \n",
       "\n",
       "objet      structuration  \n",
       "type_reco                 \n",
       "indiv          36.866359  \n",
       "others         40.625000  \n",
       "recherche      30.576071  \n",
       "syndic         43.046358  \n",
       "univ           15.740741  "
      ]
     },
     "execution_count": 112,
     "metadata": {},
     "output_type": "execute_result"
    }
   ],
   "source": [
    "pd.crosstab(data[\"type_reco\"],data[\"objet\"]).apply(lambda x: 100*x/sum(x),axis=1)"
   ]
  },
  {
   "cell_type": "markdown",
   "metadata": {},
   "source": [
    "### Agrégation par contribution avec pondération"
   ]
  },
  {
   "cell_type": "markdown",
   "metadata": {},
   "source": [
    "Création d'une pondération sur les jugements"
   ]
  },
  {
   "cell_type": "code",
   "execution_count": 137,
   "metadata": {
    "collapsed": false
   },
   "outputs": [],
   "source": [
    "def positif(x):\n",
    "    return len([i for i in x if i==\"positif\"])\n",
    "def critique(x):\n",
    "    return len([i for i in x if i==\"critique\"])\n",
    "def neutre(x):\n",
    "    return len([i for i in x if i==\"neutre\"])\n",
    "poids = data.groupby(\"fichier\").agg({\"phrase\":\"count\",\"jugement\":[positif,critique,neutre]})\n",
    "poids.columns = poids.columns.get_level_values(1)\n",
    "data = data.join(poids,on=\"fichier\",rsuffix=\"_agg\")\n",
    "data[\"frac\"] = data[\"count\"].apply(lambda x : 1/x)"
   ]
  },
  {
   "cell_type": "markdown",
   "metadata": {},
   "source": [
    "Création d'un fichier sur les contributions"
   ]
  },
  {
   "cell_type": "code",
   "execution_count": 240,
   "metadata": {
    "collapsed": false
   },
   "outputs": [],
   "source": [
    "def agg_jugement(x):\n",
    "    l = list(x.groupby(\"jugement\")[\"frac\"].sum().sort_values(ascending=False).index)\n",
    "    if len(l)==0:\n",
    "        return None\n",
    "    return str(l[0])\n",
    "def prop_critique(x):\n",
    "    l = dict(x.groupby(\"jugement\")[\"frac\"].sum())\n",
    "    if \"critique\" in l:\n",
    "        return l[\"critique\"]\n",
    "    return 0"
   ]
  },
  {
   "cell_type": "code",
   "execution_count": 242,
   "metadata": {
    "collapsed": false
   },
   "outputs": [],
   "source": [
    "contrib = pd.DataFrame(data.groupby(\"fichier\").apply(agg_jugement))\n",
    "contrib[\"n\"]=data.groupby(\"fichier\")[\"jugement\"].count()\n",
    "contrib[\"prop_critique\"] = pd.DataFrame(data.groupby(\"fichier\").apply(prop_critique))\n",
    "contrib = contrib.join(s)\n",
    "contrib.columns = [\"jugement\",\"nombre\",\"prop_critique\",\"type\",\"0\",\"type_reco\"]"
   ]
  },
  {
   "cell_type": "markdown",
   "metadata": {},
   "source": [
    "Distribution du nombre de jugements par contributions"
   ]
  },
  {
   "cell_type": "code",
   "execution_count": 265,
   "metadata": {
    "collapsed": false
   },
   "outputs": [
    {
     "data": {
      "text/plain": [
       "<matplotlib.axes._subplots.AxesSubplot at 0x11c33b550>"
      ]
     },
     "execution_count": 265,
     "metadata": {},
     "output_type": "execute_result"
    },
    {
     "data": {
      "image/png": "[encoded data removed]",
      "text/plain": [
       "<matplotlib.figure.Figure at 0x121bd9710>"
      ]
     },
     "metadata": {},
     "output_type": "display_data"
    }
   ],
   "source": [
    "contrib[\"nombre\"].hist()"
   ]
  },
  {
   "cell_type": "code",
   "execution_count": 266,
   "metadata": {
    "collapsed": false
   },
   "outputs": [
    {
     "data": {
      "text/plain": [
       "critique    275\n",
       "neutre       86\n",
       "positif      36\n",
       "Name: jugement, dtype: int64"
      ]
     },
     "execution_count": 266,
     "metadata": {},
     "output_type": "execute_result"
    }
   ],
   "source": [
    "contrib[\"jugement\"].value_counts()"
   ]
  },
  {
   "cell_type": "code",
   "execution_count": 267,
   "metadata": {
    "collapsed": false
   },
   "outputs": [
    {
     "data": {
      "text/html": [
       "<div>\n",
       "<table border=\"1\" class=\"dataframe\">\n",
       "  <thead>\n",
       "    <tr style=\"text-align: right;\">\n",
       "      <th>type_reco</th>\n",
       "      <th>indiv</th>\n",
       "      <th>others</th>\n",
       "      <th>recherche</th>\n",
       "      <th>syndic</th>\n",
       "      <th>univ</th>\n",
       "    </tr>\n",
       "    <tr>\n",
       "      <th>jugement</th>\n",
       "      <th></th>\n",
       "      <th></th>\n",
       "      <th></th>\n",
       "      <th></th>\n",
       "      <th></th>\n",
       "    </tr>\n",
       "  </thead>\n",
       "  <tbody>\n",
       "    <tr>\n",
       "      <th>critique</th>\n",
       "      <td>48</td>\n",
       "      <td>12</td>\n",
       "      <td>108</td>\n",
       "      <td>54</td>\n",
       "      <td>29</td>\n",
       "    </tr>\n",
       "    <tr>\n",
       "      <th>neutre</th>\n",
       "      <td>21</td>\n",
       "      <td>15</td>\n",
       "      <td>37</td>\n",
       "      <td>4</td>\n",
       "      <td>3</td>\n",
       "    </tr>\n",
       "    <tr>\n",
       "      <th>positif</th>\n",
       "      <td>10</td>\n",
       "      <td>4</td>\n",
       "      <td>13</td>\n",
       "      <td>0</td>\n",
       "      <td>2</td>\n",
       "    </tr>\n",
       "  </tbody>\n",
       "</table>\n",
       "</div>"
      ],
      "text/plain": [
       "type_reco  indiv  others  recherche  syndic  univ\n",
       "jugement                                         \n",
       "critique      48      12        108      54    29\n",
       "neutre        21      15         37       4     3\n",
       "positif       10       4         13       0     2"
      ]
     },
     "execution_count": 267,
     "metadata": {},
     "output_type": "execute_result"
    }
   ],
   "source": [
    "pd.crosstab(contrib[\"jugement\"],contrib[\"type_reco\"])"
   ]
  },
  {
   "cell_type": "code",
   "execution_count": 268,
   "metadata": {
    "collapsed": false
   },
   "outputs": [
    {
     "data": {
      "text/plain": [
       "<matplotlib.axes._subplots.AxesSubplot at 0x121ddd0b8>"
      ]
     },
     "execution_count": 268,
     "metadata": {},
     "output_type": "execute_result"
    },
    {
     "data": {
      "image/png": "[encoded data removed]",
      "text/plain": [
       "<matplotlib.figure.Figure at 0x121e79d68>"
      ]
     },
     "metadata": {},
     "output_type": "display_data"
    }
   ],
   "source": [
    "pd.crosstab(contrib[\"type_reco\"],contrib[\"jugement\"]).plot(kind=\"bar\",stacked=True)"
   ]
  },
  {
   "cell_type": "code",
   "execution_count": 270,
   "metadata": {
    "collapsed": false
   },
   "outputs": [
    {
     "data": {
      "text/plain": [
       "<matplotlib.text.Text at 0x1222a1438>"
      ]
     },
     "execution_count": 270,
     "metadata": {},
     "output_type": "execute_result"
    },
    {
     "data": {
      "image/png": "[encoded data removed]",
      "text/plain": [
       "<matplotlib.figure.Figure at 0x1221513c8>"
      ]
     },
     "metadata": {},
     "output_type": "display_data"
    }
   ],
   "source": [
    "contrib.plot(kind=\"scatter\",x=\"nombre\",y=\"prop_critique\")\n",
    "plt.title(\"Nuage de point de la fréquence de jugements critiques en fonction du nombre de jugements\")"
   ]
  }
 ],
 "metadata": {
  "anaconda-cloud": {},
  "kernelspec": {
   "display_name": "Python [conda env:p3]",
   "language": "python",
   "name": "conda-env-p3-py"
  },
  "language_info": {
   "codemirror_mode": {
    "name": "ipython",
    "version": 3
   },
   "file_extension": ".py",
   "mimetype": "text/x-python",
   "name": "python",
   "nbconvert_exporter": "python",
   "pygments_lexer": "ipython3",
   "version": "3.4.5"
  }
 },
 "nbformat": 4,
 "nbformat_minor": 1
}
